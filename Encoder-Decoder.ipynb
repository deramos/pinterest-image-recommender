{
 "cells": [
  {
   "cell_type": "code",
   "execution_count": 1,
   "id": "d42ac4da-03b1-49fa-832d-356819d3b12e",
   "metadata": {},
   "outputs": [],
   "source": [
    "import torch\n",
    "import torch.nn as nn\n",
    "from torchvision.datasets import cifar\n",
    "from torchvision.models import resnet50"
   ]
  },
  {
   "cell_type": "code",
   "execution_count": 2,
   "id": "197a4855-f2c7-427c-80ad-b83672f154b8",
   "metadata": {},
   "outputs": [],
   "source": [
    "class UpsampleBlock(nn.Module):\n",
    "    def __init__(self, in_channel, out_channel, mode='nearest'):\n",
    "        super(UpsampleBlock, self).__init__()\n",
    "        self.unsample = nn.Sequential([\n",
    "            nn.Upsample(scale_factor=2, mode=mode),\n",
    "            nn.Conv2d(in_channels=in_channel, out_channels=out_channel, kernel_size=3, padding=1, stride=1),\n",
    "            nn.BatchNorm2d(out_channels),\n",
    "            nn.ReLU(inplace=True)\n",
    "        ])\n",
    "\n",
    "    def forward(self, x):\n",
    "        return self.unsample(x)"
   ]
  },
  {
   "cell_type": "code",
   "execution_count": 24,
   "id": "6f78c4a3-0d49-44c8-9610-1543ba2f82db",
   "metadata": {},
   "outputs": [],
   "source": [
    "class Encoder(nn.Module):\n",
    "    def __init__(self):\n",
    "        super(Encoder, self).__init__()\n",
    "        self.encoder = nn.Sequential(*list(resnet50().children())[:-2])\n",
    "\n",
    "    def forward(self, x):\n",
    "        return self.encoder(x)"
   ]
  },
  {
   "cell_type": "code",
   "execution_count": 26,
   "id": "e2452376-77e4-400e-b7db-a9000b854cc9",
   "metadata": {},
   "outputs": [],
   "source": [
    "x = torch.rand([1, 3, 224, 224])"
   ]
  },
  {
   "cell_type": "code",
   "execution_count": 28,
   "id": "4556501e-ce0b-4ff9-85ed-7fe0505cfbb9",
   "metadata": {},
   "outputs": [],
   "source": [
    "model = Encoder()\n",
    "output = model(x)"
   ]
  },
  {
   "cell_type": "code",
   "execution_count": 32,
   "id": "0e75e4fc-08c0-4b02-8bf9-bd28855bfe0c",
   "metadata": {},
   "outputs": [
    {
     "data": {
      "text/plain": [
       "torch.Size([1, 100352])"
      ]
     },
     "execution_count": 32,
     "metadata": {},
     "output_type": "execute_result"
    }
   ],
   "source": [
    "output.view([1, -1]).shape"
   ]
  },
  {
   "cell_type": "code",
   "execution_count": null,
   "id": "3fcbaea5-2e0d-464d-b5b6-3d656c7a88de",
   "metadata": {},
   "outputs": [],
   "source": []
  }
 ],
 "metadata": {
  "kernelspec": {
   "display_name": "Python 3 (ipykernel)",
   "language": "python",
   "name": "python3"
  },
  "language_info": {
   "codemirror_mode": {
    "name": "ipython",
    "version": 3
   },
   "file_extension": ".py",
   "mimetype": "text/x-python",
   "name": "python",
   "nbconvert_exporter": "python",
   "pygments_lexer": "ipython3",
   "version": "3.11.7"
  }
 },
 "nbformat": 4,
 "nbformat_minor": 5
}
